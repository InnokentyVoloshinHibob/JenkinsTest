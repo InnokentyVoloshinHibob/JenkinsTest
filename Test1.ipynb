{
 "cells": [
  {
   "cell_type": "code",
   "execution_count": 2,
   "id": "5d653c06-7297-4896-acf4-94fd01b55386",
   "metadata": {},
   "outputs": [],
   "source": [
    "import pandas as pd\n",
    "import snowflake.connector\n",
    "conn = snowflake.connector.connect(user='INNOKENTYVOLOSHIN',password='1Q2w3e4r',account='iwb20380.us-east-1')"
   ]
  },
  {
   "cell_type": "code",
   "execution_count": 13,
   "id": "118978a6-81e0-4a09-bd1e-a545a5bc76f7",
   "metadata": {},
   "outputs": [],
   "source": [
    "sql = \"\"\"\n",
    "-- auto-generated definition\n",
    "insert into JENKINSTEST.PUBLIC.TEST_EXECUTION_RESULTS (EXECUTION_ID, PROCESS_NAME, CATEGORY, STATUS)\n",
    "select 'absce','Usage - Fetch Data from Bob','Integration (BI)','SUCCESS'\n",
    "union\n",
    "select 'absce','Usage - Import Data into Netsuite','Integration','FAILED';\n",
    "\"\"\""
   ]
  },
  {
   "cell_type": "code",
   "execution_count": 14,
   "id": "daad44e3-15c4-4f3e-ae72-65a65ae1fceb",
   "metadata": {},
   "outputs": [],
   "source": [
    "query = conn.cursor().execute(sql).fetchall()"
   ]
  },
  {
   "cell_type": "code",
   "execution_count": 15,
   "id": "804f9c70-b7d0-4fd3-bde2-6b90ca514085",
   "metadata": {},
   "outputs": [],
   "source": [
    "sql2 = \"\"\"\n",
    "SELECT * FROM JENKINSTEST.PUBLIC.TEST_EXECUTION_RESULTS;\n",
    "\"\"\""
   ]
  },
  {
   "cell_type": "code",
   "execution_count": 16,
   "id": "ca7ff326-fa48-41d2-bd22-e6ac1794bfaf",
   "metadata": {},
   "outputs": [],
   "source": [
    "query2 = conn.cursor().execute(sql2).fetchall()"
   ]
  },
  {
   "cell_type": "code",
   "execution_count": 18,
   "id": "c353a242-edf2-4348-8de3-615cd21b1c38",
   "metadata": {},
   "outputs": [
    {
     "data": {
      "text/html": [
       "<style type=\"text/css\">\n",
       "</style>\n",
       "<table id=\"T_5e561\">\n",
       "  <thead>\n",
       "    <tr>\n",
       "      <th class=\"blank level0\" >&nbsp;</th>\n",
       "      <th id=\"T_5e561_level0_col0\" class=\"col_heading level0 col0\" >0</th>\n",
       "      <th id=\"T_5e561_level0_col1\" class=\"col_heading level0 col1\" >1</th>\n",
       "      <th id=\"T_5e561_level0_col2\" class=\"col_heading level0 col2\" >2</th>\n",
       "      <th id=\"T_5e561_level0_col3\" class=\"col_heading level0 col3\" >3</th>\n",
       "    </tr>\n",
       "  </thead>\n",
       "  <tbody>\n",
       "    <tr>\n",
       "      <th id=\"T_5e561_level0_row0\" class=\"row_heading level0 row0\" >0</th>\n",
       "      <td id=\"T_5e561_row0_col0\" class=\"data row0 col0\" >absce</td>\n",
       "      <td id=\"T_5e561_row0_col1\" class=\"data row0 col1\" >Usage - Fetch Data from Bob</td>\n",
       "      <td id=\"T_5e561_row0_col2\" class=\"data row0 col2\" >Integration (BI)</td>\n",
       "      <td id=\"T_5e561_row0_col3\" class=\"data row0 col3\" >SUCCESS</td>\n",
       "    </tr>\n",
       "    <tr>\n",
       "      <th id=\"T_5e561_level0_row1\" class=\"row_heading level0 row1\" >1</th>\n",
       "      <td id=\"T_5e561_row1_col0\" class=\"data row1 col0\" >absce</td>\n",
       "      <td id=\"T_5e561_row1_col1\" class=\"data row1 col1\" >Usage - Import Data into Netsuite</td>\n",
       "      <td id=\"T_5e561_row1_col2\" class=\"data row1 col2\" >Integration</td>\n",
       "      <td id=\"T_5e561_row1_col3\" class=\"data row1 col3\" >FAILED</td>\n",
       "    </tr>\n",
       "    <tr>\n",
       "      <th id=\"T_5e561_level0_row2\" class=\"row_heading level0 row2\" >2</th>\n",
       "      <td id=\"T_5e561_row2_col0\" class=\"data row2 col0\" >absce</td>\n",
       "      <td id=\"T_5e561_row2_col1\" class=\"data row2 col1\" >Usage - Fetch Data from Bob</td>\n",
       "      <td id=\"T_5e561_row2_col2\" class=\"data row2 col2\" >Integration (BI)</td>\n",
       "      <td id=\"T_5e561_row2_col3\" class=\"data row2 col3\" >SUCCESS</td>\n",
       "    </tr>\n",
       "    <tr>\n",
       "      <th id=\"T_5e561_level0_row3\" class=\"row_heading level0 row3\" >3</th>\n",
       "      <td id=\"T_5e561_row3_col0\" class=\"data row3 col0\" >absce</td>\n",
       "      <td id=\"T_5e561_row3_col1\" class=\"data row3 col1\" >Usage - Import Data into Netsuite</td>\n",
       "      <td id=\"T_5e561_row3_col2\" class=\"data row3 col2\" >Integration</td>\n",
       "      <td id=\"T_5e561_row3_col3\" class=\"data row3 col3\" >FAILED</td>\n",
       "    </tr>\n",
       "  </tbody>\n",
       "</table>\n"
      ],
      "text/plain": [
       "<pandas.io.formats.style.Styler at 0x1b60cf6ce20>"
      ]
     },
     "execution_count": 18,
     "metadata": {},
     "output_type": "execute_result"
    }
   ],
   "source": [
    "df = pd.DataFrame(query2)\n",
    "df.style"
   ]
  },
  {
   "cell_type": "code",
   "execution_count": null,
   "id": "3ed94f19-8184-497b-aaef-18bb4cac804e",
   "metadata": {},
   "outputs": [],
   "source": []
  }
 ],
 "metadata": {
  "kernelspec": {
   "display_name": "Python 3",
   "language": "python",
   "name": "python3"
  },
  "language_info": {
   "codemirror_mode": {
    "name": "ipython",
    "version": 3
   },
   "file_extension": ".py",
   "mimetype": "text/x-python",
   "name": "python",
   "nbconvert_exporter": "python",
   "pygments_lexer": "ipython3",
   "version": "3.9.7"
  }
 },
 "nbformat": 4,
 "nbformat_minor": 5
}
